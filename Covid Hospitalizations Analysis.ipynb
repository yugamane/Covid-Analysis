{
 "cells": [
  {
   "cell_type": "code",
   "execution_count": 259,
   "metadata": {},
   "outputs": [],
   "source": [
    "import pandas as pd\n",
    "import numpy as np\n",
    "import matplotlib as mpl\n",
    "import matplotlib.pyplot as plt\n",
    "import seaborn as sns\n",
    "import statsmodels.api as sm\n",
    "from datetime import datetime, timedelta\n",
    "from pandas import DataFrame"
   ]
  },
  {
   "cell_type": "markdown",
   "metadata": {},
   "source": [
    "## Import and clean Data"
   ]
  },
  {
   "cell_type": "code",
   "execution_count": 260,
   "metadata": {},
   "outputs": [],
   "source": [
    "def process(dfurl):\n",
    "\n",
    "    dfcovid = pd.read_csv(dfurl)\n",
    "    dfcovid = dfcovid.drop(['UID','iso2', 'iso3','code3', 'FIPS', 'Lat', 'Long_' , 'Country_Region', 'Combined_Key'], axis=1)\n",
    "    dfcovid.rename(columns = {'Province_State':'State'} , inplace=True)\n",
    "    dfcovid.rename(columns = {'Admin2':'County'} , inplace=True)\n",
    "    dfcovid = dfcovid.fillna(\"NA\")\n",
    "    dfcovid = dfcovid.melt(['State', 'County'], var_name='Date', value_name='value')\n",
    "    \n",
    "    return dfcovid"
   ]
  },
  {
   "cell_type": "code",
   "execution_count": 261,
   "metadata": {
    "scrolled": true
   },
   "outputs": [
    {
     "data": {
      "text/html": [
       "<div>\n",
       "<style scoped>\n",
       "    .dataframe tbody tr th:only-of-type {\n",
       "        vertical-align: middle;\n",
       "    }\n",
       "\n",
       "    .dataframe tbody tr th {\n",
       "        vertical-align: top;\n",
       "    }\n",
       "\n",
       "    .dataframe thead th {\n",
       "        text-align: right;\n",
       "    }\n",
       "</style>\n",
       "<table border=\"1\" class=\"dataframe\">\n",
       "  <thead>\n",
       "    <tr style=\"text-align: right;\">\n",
       "      <th></th>\n",
       "      <th>State</th>\n",
       "      <th>County</th>\n",
       "      <th>Date</th>\n",
       "      <th>Confirmed</th>\n",
       "    </tr>\n",
       "  </thead>\n",
       "  <tbody>\n",
       "    <tr>\n",
       "      <th>0</th>\n",
       "      <td>Alabama</td>\n",
       "      <td>Autauga</td>\n",
       "      <td>2020-01-22</td>\n",
       "      <td>0</td>\n",
       "    </tr>\n",
       "    <tr>\n",
       "      <th>1</th>\n",
       "      <td>Alabama</td>\n",
       "      <td>Baldwin</td>\n",
       "      <td>2020-01-22</td>\n",
       "      <td>0</td>\n",
       "    </tr>\n",
       "    <tr>\n",
       "      <th>2</th>\n",
       "      <td>Alabama</td>\n",
       "      <td>Barbour</td>\n",
       "      <td>2020-01-22</td>\n",
       "      <td>0</td>\n",
       "    </tr>\n",
       "    <tr>\n",
       "      <th>3</th>\n",
       "      <td>Alabama</td>\n",
       "      <td>Bibb</td>\n",
       "      <td>2020-01-22</td>\n",
       "      <td>0</td>\n",
       "    </tr>\n",
       "    <tr>\n",
       "      <th>4</th>\n",
       "      <td>Alabama</td>\n",
       "      <td>Blount</td>\n",
       "      <td>2020-01-22</td>\n",
       "      <td>0</td>\n",
       "    </tr>\n",
       "  </tbody>\n",
       "</table>\n",
       "</div>"
      ],
      "text/plain": [
       "     State   County       Date  Confirmed\n",
       "0  Alabama  Autauga 2020-01-22          0\n",
       "1  Alabama  Baldwin 2020-01-22          0\n",
       "2  Alabama  Barbour 2020-01-22          0\n",
       "3  Alabama     Bibb 2020-01-22          0\n",
       "4  Alabama   Blount 2020-01-22          0"
      ]
     },
     "execution_count": 261,
     "metadata": {},
     "output_type": "execute_result"
    }
   ],
   "source": [
    "#Import file for confirmed cases per US State and County\n",
    "urlconfirmed = 'https://raw.githubusercontent.com/CSSEGISandData/COVID-19/master/csse_covid_19_data/csse_covid_19_time_series/time_series_covid19_confirmed_US.csv'\n",
    "dfconfirmed = process(urlconfirmed)\n",
    "dfconfirmed.rename(columns = {'value':'Confirmed'} , inplace=True)\n",
    "dfconfirmed['Date'] = pd.to_datetime(dfconfirmed.Date)\n",
    "dfconfirmed.head()"
   ]
  },
  {
   "cell_type": "code",
   "execution_count": 262,
   "metadata": {
    "scrolled": true
   },
   "outputs": [
    {
     "data": {
      "text/html": [
       "<div>\n",
       "<style scoped>\n",
       "    .dataframe tbody tr th:only-of-type {\n",
       "        vertical-align: middle;\n",
       "    }\n",
       "\n",
       "    .dataframe tbody tr th {\n",
       "        vertical-align: top;\n",
       "    }\n",
       "\n",
       "    .dataframe thead th {\n",
       "        text-align: right;\n",
       "    }\n",
       "</style>\n",
       "<table border=\"1\" class=\"dataframe\">\n",
       "  <thead>\n",
       "    <tr style=\"text-align: right;\">\n",
       "      <th></th>\n",
       "      <th>State</th>\n",
       "      <th>County</th>\n",
       "      <th>Date</th>\n",
       "      <th>Dead</th>\n",
       "    </tr>\n",
       "  </thead>\n",
       "  <tbody>\n",
       "    <tr>\n",
       "      <th>3340</th>\n",
       "      <td>Alabama</td>\n",
       "      <td>Autauga</td>\n",
       "      <td>2020-01-22</td>\n",
       "      <td>0</td>\n",
       "    </tr>\n",
       "    <tr>\n",
       "      <th>3341</th>\n",
       "      <td>Alabama</td>\n",
       "      <td>Baldwin</td>\n",
       "      <td>2020-01-22</td>\n",
       "      <td>0</td>\n",
       "    </tr>\n",
       "    <tr>\n",
       "      <th>3342</th>\n",
       "      <td>Alabama</td>\n",
       "      <td>Barbour</td>\n",
       "      <td>2020-01-22</td>\n",
       "      <td>0</td>\n",
       "    </tr>\n",
       "    <tr>\n",
       "      <th>3343</th>\n",
       "      <td>Alabama</td>\n",
       "      <td>Bibb</td>\n",
       "      <td>2020-01-22</td>\n",
       "      <td>0</td>\n",
       "    </tr>\n",
       "    <tr>\n",
       "      <th>3344</th>\n",
       "      <td>Alabama</td>\n",
       "      <td>Blount</td>\n",
       "      <td>2020-01-22</td>\n",
       "      <td>0</td>\n",
       "    </tr>\n",
       "  </tbody>\n",
       "</table>\n",
       "</div>"
      ],
      "text/plain": [
       "        State   County       Date  Dead\n",
       "3340  Alabama  Autauga 2020-01-22     0\n",
       "3341  Alabama  Baldwin 2020-01-22     0\n",
       "3342  Alabama  Barbour 2020-01-22     0\n",
       "3343  Alabama     Bibb 2020-01-22     0\n",
       "3344  Alabama   Blount 2020-01-22     0"
      ]
     },
     "execution_count": 262,
     "metadata": {},
     "output_type": "execute_result"
    }
   ],
   "source": [
    "#Import file for Dead cases per US State and County\n",
    "urldead = 'https://raw.githubusercontent.com/CSSEGISandData/COVID-19/master/csse_covid_19_data/csse_covid_19_time_series/time_series_covid19_deaths_US.csv'\n",
    "dfdead = process(urldead)\n",
    "dfdead = dfdead[dfdead.Date != 'Population']\n",
    "dfdead.rename(columns = {'value':'Dead'} , inplace=True)\n",
    "dfdead['Date'] = pd.to_datetime(dfdead.Date)\n",
    "dfdead.head()"
   ]
  },
  {
   "cell_type": "code",
   "execution_count": 263,
   "metadata": {},
   "outputs": [],
   "source": [
    "#Merge Confirmed and Dead case numbers on State, County and Date\n",
    "uscovid = pd.merge(dfconfirmed, dfdead, how='left', left_on=['State', 'County','Date'], right_on = ['State','County', 'Date'])"
   ]
  },
  {
   "cell_type": "code",
   "execution_count": 264,
   "metadata": {},
   "outputs": [
    {
     "data": {
      "text/html": [
       "<div>\n",
       "<style scoped>\n",
       "    .dataframe tbody tr th:only-of-type {\n",
       "        vertical-align: middle;\n",
       "    }\n",
       "\n",
       "    .dataframe tbody tr th {\n",
       "        vertical-align: top;\n",
       "    }\n",
       "\n",
       "    .dataframe thead th {\n",
       "        text-align: right;\n",
       "    }\n",
       "</style>\n",
       "<table border=\"1\" class=\"dataframe\">\n",
       "  <thead>\n",
       "    <tr style=\"text-align: right;\">\n",
       "      <th></th>\n",
       "      <th>State</th>\n",
       "      <th>County</th>\n",
       "      <th>Date</th>\n",
       "      <th>Confirmed</th>\n",
       "      <th>Dead</th>\n",
       "    </tr>\n",
       "  </thead>\n",
       "  <tbody>\n",
       "    <tr>\n",
       "      <th>0</th>\n",
       "      <td>Alabama</td>\n",
       "      <td>Autauga</td>\n",
       "      <td>2020-01-22</td>\n",
       "      <td>0</td>\n",
       "      <td>0</td>\n",
       "    </tr>\n",
       "    <tr>\n",
       "      <th>1</th>\n",
       "      <td>Alabama</td>\n",
       "      <td>Baldwin</td>\n",
       "      <td>2020-01-22</td>\n",
       "      <td>0</td>\n",
       "      <td>0</td>\n",
       "    </tr>\n",
       "    <tr>\n",
       "      <th>2</th>\n",
       "      <td>Alabama</td>\n",
       "      <td>Barbour</td>\n",
       "      <td>2020-01-22</td>\n",
       "      <td>0</td>\n",
       "      <td>0</td>\n",
       "    </tr>\n",
       "    <tr>\n",
       "      <th>3</th>\n",
       "      <td>Alabama</td>\n",
       "      <td>Bibb</td>\n",
       "      <td>2020-01-22</td>\n",
       "      <td>0</td>\n",
       "      <td>0</td>\n",
       "    </tr>\n",
       "    <tr>\n",
       "      <th>4</th>\n",
       "      <td>Alabama</td>\n",
       "      <td>Blount</td>\n",
       "      <td>2020-01-22</td>\n",
       "      <td>0</td>\n",
       "      <td>0</td>\n",
       "    </tr>\n",
       "  </tbody>\n",
       "</table>\n",
       "</div>"
      ],
      "text/plain": [
       "     State   County       Date  Confirmed  Dead\n",
       "0  Alabama  Autauga 2020-01-22          0     0\n",
       "1  Alabama  Baldwin 2020-01-22          0     0\n",
       "2  Alabama  Barbour 2020-01-22          0     0\n",
       "3  Alabama     Bibb 2020-01-22          0     0\n",
       "4  Alabama   Blount 2020-01-22          0     0"
      ]
     },
     "execution_count": 264,
     "metadata": {},
     "output_type": "execute_result"
    }
   ],
   "source": [
    "uscovid.head()"
   ]
  },
  {
   "cell_type": "markdown",
   "metadata": {},
   "source": [
    "## Get Hospital all beds data"
   ]
  },
  {
   "cell_type": "code",
   "execution_count": 265,
   "metadata": {},
   "outputs": [
    {
     "data": {
      "text/html": [
       "<div>\n",
       "<style scoped>\n",
       "    .dataframe tbody tr th:only-of-type {\n",
       "        vertical-align: middle;\n",
       "    }\n",
       "\n",
       "    .dataframe tbody tr th {\n",
       "        vertical-align: top;\n",
       "    }\n",
       "\n",
       "    .dataframe thead th {\n",
       "        text-align: right;\n",
       "    }\n",
       "</style>\n",
       "<table border=\"1\" class=\"dataframe\">\n",
       "  <thead>\n",
       "    <tr style=\"text-align: right;\">\n",
       "      <th></th>\n",
       "      <th>State</th>\n",
       "      <th>Date</th>\n",
       "      <th>allbed_mean</th>\n",
       "    </tr>\n",
       "  </thead>\n",
       "  <tbody>\n",
       "    <tr>\n",
       "      <th>0</th>\n",
       "      <td>Alabama</td>\n",
       "      <td>2019-12-13</td>\n",
       "      <td>0.0</td>\n",
       "    </tr>\n",
       "    <tr>\n",
       "      <th>1</th>\n",
       "      <td>Alaska</td>\n",
       "      <td>2019-12-13</td>\n",
       "      <td>0.0</td>\n",
       "    </tr>\n",
       "    <tr>\n",
       "      <th>2</th>\n",
       "      <td>Arizona</td>\n",
       "      <td>2019-12-13</td>\n",
       "      <td>0.0</td>\n",
       "    </tr>\n",
       "    <tr>\n",
       "      <th>3</th>\n",
       "      <td>Arkansas</td>\n",
       "      <td>2019-12-13</td>\n",
       "      <td>0.0</td>\n",
       "    </tr>\n",
       "    <tr>\n",
       "      <th>4</th>\n",
       "      <td>California</td>\n",
       "      <td>2019-12-13</td>\n",
       "      <td>0.0</td>\n",
       "    </tr>\n",
       "    <tr>\n",
       "      <th>...</th>\n",
       "      <td>...</td>\n",
       "      <td>...</td>\n",
       "      <td>...</td>\n",
       "    </tr>\n",
       "    <tr>\n",
       "      <th>13051</th>\n",
       "      <td>Virginia</td>\n",
       "      <td>2020-08-24</td>\n",
       "      <td>0.0</td>\n",
       "    </tr>\n",
       "    <tr>\n",
       "      <th>13052</th>\n",
       "      <td>Washington</td>\n",
       "      <td>2020-08-24</td>\n",
       "      <td>0.0</td>\n",
       "    </tr>\n",
       "    <tr>\n",
       "      <th>13053</th>\n",
       "      <td>West Virginia</td>\n",
       "      <td>2020-08-24</td>\n",
       "      <td>0.0</td>\n",
       "    </tr>\n",
       "    <tr>\n",
       "      <th>13054</th>\n",
       "      <td>Wisconsin</td>\n",
       "      <td>2020-08-24</td>\n",
       "      <td>0.0</td>\n",
       "    </tr>\n",
       "    <tr>\n",
       "      <th>13055</th>\n",
       "      <td>Wyoming</td>\n",
       "      <td>2020-08-24</td>\n",
       "      <td>0.0</td>\n",
       "    </tr>\n",
       "  </tbody>\n",
       "</table>\n",
       "<p>13056 rows × 3 columns</p>\n",
       "</div>"
      ],
      "text/plain": [
       "               State       Date  allbed_mean\n",
       "0            Alabama 2019-12-13          0.0\n",
       "1             Alaska 2019-12-13          0.0\n",
       "2            Arizona 2019-12-13          0.0\n",
       "3           Arkansas 2019-12-13          0.0\n",
       "4         California 2019-12-13          0.0\n",
       "...              ...        ...          ...\n",
       "13051       Virginia 2020-08-24          0.0\n",
       "13052     Washington 2020-08-24          0.0\n",
       "13053  West Virginia 2020-08-24          0.0\n",
       "13054      Wisconsin 2020-08-24          0.0\n",
       "13055        Wyoming 2020-08-24          0.0\n",
       "\n",
       "[13056 rows x 3 columns]"
      ]
     },
     "execution_count": 265,
     "metadata": {},
     "output_type": "execute_result"
    }
   ],
   "source": [
    "hosp_uti_url = 'https://raw.githubusercontent.com/JieYingWu/COVID-19_US_County-level_Summaries/master/data/Hospitalization_all_locs.csv'\n",
    "hospital_utilization = pd.read_csv(hosp_uti_url ) \n",
    "hospital_utilization = hospital_utilization[hospital_utilization['Attribute'] == 'allbed_mean']\n",
    "hospital_utilization = hospital_utilization.melt(['State', 'Attribute'], var_name='Date', value_name='allbed_mean')\n",
    "hospital_utilization['Date'] = pd.to_datetime(hospital_utilization.Date)\n",
    "hospital_utilization = hospital_utilization.drop(['Attribute'], axis=1)\n",
    "hospital_utilization"
   ]
  },
  {
   "cell_type": "code",
   "execution_count": 266,
   "metadata": {},
   "outputs": [
    {
     "name": "stdout",
     "output_type": "stream",
     "text": [
      "<class 'pandas.core.frame.DataFrame'>\n",
      "RangeIndex: 12470 entries, 0 to 12469\n",
      "Data columns (total 4 columns):\n",
      " #   Column     Non-Null Count  Dtype         \n",
      "---  ------     --------------  -----         \n",
      " 0   State      12470 non-null  object        \n",
      " 1   Date       12470 non-null  datetime64[ns]\n",
      " 2   Confirmed  12470 non-null  int64         \n",
      " 3   Dead       12470 non-null  int64         \n",
      "dtypes: datetime64[ns](1), int64(2), object(1)\n",
      "memory usage: 389.8+ KB\n"
     ]
    }
   ],
   "source": [
    "uscovid_statelevel = uscovid\n",
    "uscovid_statelevel.drop('County', axis =1)\n",
    "uscovid_st_dt = pd.DataFrame(uscovid_statelevel.groupby(['State','Date']).agg({'Confirmed': 'sum', 'Dead': 'sum'})).reset_index()\n",
    "uscovid_st_dt.info()"
   ]
  },
  {
   "cell_type": "code",
   "execution_count": 267,
   "metadata": {},
   "outputs": [],
   "source": [
    "uscovid_st_dt = pd.merge(uscovid_st_dt, hospital_utilization, how='left')"
   ]
  },
  {
   "cell_type": "code",
   "execution_count": 268,
   "metadata": {},
   "outputs": [
    {
     "name": "stdout",
     "output_type": "stream",
     "text": [
      "<class 'pandas.core.frame.DataFrame'>\n",
      "Int64Index: 12470 entries, 0 to 12469\n",
      "Data columns (total 5 columns):\n",
      " #   Column       Non-Null Count  Dtype         \n",
      "---  ------       --------------  -----         \n",
      " 0   State        12470 non-null  object        \n",
      " 1   Date         12470 non-null  datetime64[ns]\n",
      " 2   Confirmed    12470 non-null  int64         \n",
      " 3   Dead         12470 non-null  int64         \n",
      " 4   allbed_mean  10965 non-null  float64       \n",
      "dtypes: datetime64[ns](1), float64(1), int64(2), object(1)\n",
      "memory usage: 584.5+ KB\n"
     ]
    }
   ],
   "source": [
    "uscovid_st_dt.info()"
   ]
  },
  {
   "cell_type": "code",
   "execution_count": 269,
   "metadata": {},
   "outputs": [
    {
     "name": "stdout",
     "output_type": "stream",
     "text": [
      "                State       Date  Confirmed  Dead  allbed_mean\n",
      "0             Alabama 2020-01-22          0     0          0.0\n",
      "6507          Montana 2020-03-19         11     0          0.0\n",
      "6506          Montana 2020-03-18         10     0          0.0\n",
      "6505          Montana 2020-03-17          8     0          0.0\n",
      "6504          Montana 2020-03-16          6     0          0.0\n",
      "...               ...        ...        ...   ...          ...\n",
      "11390  Virgin Islands 2020-08-19        828     9          NaN\n",
      "11391  Virgin Islands 2020-08-20        869    10          NaN\n",
      "11392  Virgin Islands 2020-08-21        932    10          NaN\n",
      "11393  Virgin Islands 2020-08-22        932    10          NaN\n",
      "11394  Virgin Islands 2020-08-23        932    10          NaN\n",
      "\n",
      "[12470 rows x 5 columns]\n"
     ]
    }
   ],
   "source": [
    "print(uscovid_st_dt.sort_values('allbed_mean', ascending=True))"
   ]
  },
  {
   "cell_type": "markdown",
   "metadata": {},
   "source": [
    "## Join Census Data"
   ]
  },
  {
   "cell_type": "code",
   "execution_count": 270,
   "metadata": {},
   "outputs": [
    {
     "data": {
      "text/html": [
       "<div>\n",
       "<style scoped>\n",
       "    .dataframe tbody tr th:only-of-type {\n",
       "        vertical-align: middle;\n",
       "    }\n",
       "\n",
       "    .dataframe tbody tr th {\n",
       "        vertical-align: top;\n",
       "    }\n",
       "\n",
       "    .dataframe thead th {\n",
       "        text-align: right;\n",
       "    }\n",
       "</style>\n",
       "<table border=\"1\" class=\"dataframe\">\n",
       "  <thead>\n",
       "    <tr style=\"text-align: right;\">\n",
       "      <th></th>\n",
       "      <th>State</th>\n",
       "      <th>Population</th>\n",
       "    </tr>\n",
       "  </thead>\n",
       "  <tbody>\n",
       "    <tr>\n",
       "      <th>0</th>\n",
       "      <td>Alabama</td>\n",
       "      <td>4903185</td>\n",
       "    </tr>\n",
       "    <tr>\n",
       "      <th>1</th>\n",
       "      <td>Alaska</td>\n",
       "      <td>731545</td>\n",
       "    </tr>\n",
       "    <tr>\n",
       "      <th>2</th>\n",
       "      <td>Arizona</td>\n",
       "      <td>7278717</td>\n",
       "    </tr>\n",
       "    <tr>\n",
       "      <th>3</th>\n",
       "      <td>Arkansas</td>\n",
       "      <td>3017804</td>\n",
       "    </tr>\n",
       "    <tr>\n",
       "      <th>4</th>\n",
       "      <td>California</td>\n",
       "      <td>39512223</td>\n",
       "    </tr>\n",
       "  </tbody>\n",
       "</table>\n",
       "</div>"
      ],
      "text/plain": [
       "        State  Population\n",
       "0     Alabama     4903185\n",
       "1      Alaska      731545\n",
       "2     Arizona     7278717\n",
       "3    Arkansas     3017804\n",
       "4  California    39512223"
      ]
     },
     "execution_count": 270,
     "metadata": {},
     "output_type": "execute_result"
    }
   ],
   "source": [
    "#Import Census Data\n",
    "census = pd.read_csv(\"C:/Users/ysman/Documents/springboard/CAPSTONE 2/Covid/covidpython/nst-est2019-alldata.csv\", header=0)\n",
    "census_col_list = ['NAME' , 'POPESTIMATE2019']\n",
    "census2019 = census[census_col_list ]\n",
    "\n",
    "census2019.rename(columns = {'POPESTIMATE2019':'Population'}, inplace = True)\n",
    "census2019.rename(columns =  {'NAME':'State'}, inplace = True)\n",
    "census2019.head()"
   ]
  },
  {
   "cell_type": "code",
   "execution_count": 271,
   "metadata": {},
   "outputs": [
    {
     "data": {
      "text/html": [
       "<div>\n",
       "<style scoped>\n",
       "    .dataframe tbody tr th:only-of-type {\n",
       "        vertical-align: middle;\n",
       "    }\n",
       "\n",
       "    .dataframe tbody tr th {\n",
       "        vertical-align: top;\n",
       "    }\n",
       "\n",
       "    .dataframe thead th {\n",
       "        text-align: right;\n",
       "    }\n",
       "</style>\n",
       "<table border=\"1\" class=\"dataframe\">\n",
       "  <thead>\n",
       "    <tr style=\"text-align: right;\">\n",
       "      <th></th>\n",
       "      <th>State</th>\n",
       "      <th>Date</th>\n",
       "      <th>Confirmed</th>\n",
       "      <th>Dead</th>\n",
       "      <th>allbed_mean</th>\n",
       "      <th>Population</th>\n",
       "    </tr>\n",
       "  </thead>\n",
       "  <tbody>\n",
       "    <tr>\n",
       "      <th>0</th>\n",
       "      <td>Alabama</td>\n",
       "      <td>2020-01-22</td>\n",
       "      <td>0</td>\n",
       "      <td>0</td>\n",
       "      <td>0.0</td>\n",
       "      <td>4903185.0</td>\n",
       "    </tr>\n",
       "    <tr>\n",
       "      <th>1</th>\n",
       "      <td>Alabama</td>\n",
       "      <td>2020-01-23</td>\n",
       "      <td>0</td>\n",
       "      <td>0</td>\n",
       "      <td>0.0</td>\n",
       "      <td>4903185.0</td>\n",
       "    </tr>\n",
       "    <tr>\n",
       "      <th>2</th>\n",
       "      <td>Alabama</td>\n",
       "      <td>2020-01-24</td>\n",
       "      <td>0</td>\n",
       "      <td>0</td>\n",
       "      <td>0.0</td>\n",
       "      <td>4903185.0</td>\n",
       "    </tr>\n",
       "    <tr>\n",
       "      <th>3</th>\n",
       "      <td>Alabama</td>\n",
       "      <td>2020-01-25</td>\n",
       "      <td>0</td>\n",
       "      <td>0</td>\n",
       "      <td>0.0</td>\n",
       "      <td>4903185.0</td>\n",
       "    </tr>\n",
       "    <tr>\n",
       "      <th>4</th>\n",
       "      <td>Alabama</td>\n",
       "      <td>2020-01-26</td>\n",
       "      <td>0</td>\n",
       "      <td>0</td>\n",
       "      <td>0.0</td>\n",
       "      <td>4903185.0</td>\n",
       "    </tr>\n",
       "  </tbody>\n",
       "</table>\n",
       "</div>"
      ],
      "text/plain": [
       "     State       Date  Confirmed  Dead  allbed_mean  Population\n",
       "0  Alabama 2020-01-22          0     0          0.0   4903185.0\n",
       "1  Alabama 2020-01-23          0     0          0.0   4903185.0\n",
       "2  Alabama 2020-01-24          0     0          0.0   4903185.0\n",
       "3  Alabama 2020-01-25          0     0          0.0   4903185.0\n",
       "4  Alabama 2020-01-26          0     0          0.0   4903185.0"
      ]
     },
     "execution_count": 271,
     "metadata": {},
     "output_type": "execute_result"
    }
   ],
   "source": [
    "# Merge Census data into main df\n",
    "uscovid_st_dt = pd.merge(uscovid_st_dt, census2019, how='left')\n",
    "uscovid_st_dt.head()"
   ]
  },
  {
   "cell_type": "markdown",
   "metadata": {},
   "source": [
    "## Create columns for Total Confirmed and Total Dead"
   ]
  },
  {
   "cell_type": "code",
   "execution_count": 272,
   "metadata": {},
   "outputs": [
    {
     "data": {
      "text/html": [
       "<div>\n",
       "<style scoped>\n",
       "    .dataframe tbody tr th:only-of-type {\n",
       "        vertical-align: middle;\n",
       "    }\n",
       "\n",
       "    .dataframe tbody tr th {\n",
       "        vertical-align: top;\n",
       "    }\n",
       "\n",
       "    .dataframe thead th {\n",
       "        text-align: right;\n",
       "    }\n",
       "</style>\n",
       "<table border=\"1\" class=\"dataframe\">\n",
       "  <thead>\n",
       "    <tr style=\"text-align: right;\">\n",
       "      <th></th>\n",
       "      <th>State</th>\n",
       "      <th>Total_Confirmed</th>\n",
       "    </tr>\n",
       "  </thead>\n",
       "  <tbody>\n",
       "    <tr>\n",
       "      <th>0</th>\n",
       "      <td>Alabama</td>\n",
       "      <td>5604700</td>\n",
       "    </tr>\n",
       "    <tr>\n",
       "      <th>1</th>\n",
       "      <td>Alaska</td>\n",
       "      <td>187592</td>\n",
       "    </tr>\n",
       "    <tr>\n",
       "      <th>2</th>\n",
       "      <td>American Samoa</td>\n",
       "      <td>0</td>\n",
       "    </tr>\n",
       "    <tr>\n",
       "      <th>3</th>\n",
       "      <td>Arizona</td>\n",
       "      <td>10298799</td>\n",
       "    </tr>\n",
       "    <tr>\n",
       "      <th>4</th>\n",
       "      <td>Arkansas</td>\n",
       "      <td>2742056</td>\n",
       "    </tr>\n",
       "  </tbody>\n",
       "</table>\n",
       "</div>"
      ],
      "text/plain": [
       "            State  Total_Confirmed\n",
       "0         Alabama          5604700\n",
       "1          Alaska           187592\n",
       "2  American Samoa                0\n",
       "3         Arizona         10298799\n",
       "4        Arkansas          2742056"
      ]
     },
     "execution_count": 272,
     "metadata": {},
     "output_type": "execute_result"
    }
   ],
   "source": [
    "TotalConfirmed = uscovid_st_dt.groupby(['State'])['Confirmed'].sum()\n",
    "Totaldf = TotalConfirmed.to_frame().reset_index()\n",
    "Totaldf.rename(columns =  {'Confirmed':'Total_Confirmed'}, inplace = True)\n",
    "Totaldf.head()"
   ]
  },
  {
   "cell_type": "code",
   "execution_count": 273,
   "metadata": {},
   "outputs": [],
   "source": [
    "TotalDead = uscovid_st_dt.groupby(['State'])['Dead'].sum()\n",
    "Totaldf2 = TotalDead.to_frame().reset_index()\n",
    "Totaldf2.rename(columns =  {'Dead':'Total_Dead'}, inplace = True)"
   ]
  },
  {
   "cell_type": "code",
   "execution_count": 274,
   "metadata": {},
   "outputs": [],
   "source": [
    "#Merge Total Confirmed and TotalDead in uscovid file\n",
    "uscovid_st_dt = pd.merge(uscovid_st_dt, Totaldf, how='left')"
   ]
  },
  {
   "cell_type": "code",
   "execution_count": 275,
   "metadata": {},
   "outputs": [],
   "source": [
    "uscovid_st_dt = pd.merge(uscovid_st_dt, Totaldf2, how='left')"
   ]
  },
  {
   "cell_type": "code",
   "execution_count": 276,
   "metadata": {
    "scrolled": false
   },
   "outputs": [
    {
     "name": "stdout",
     "output_type": "stream",
     "text": [
      "<class 'pandas.core.frame.DataFrame'>\n",
      "Int64Index: 12470 entries, 0 to 12469\n",
      "Data columns (total 8 columns):\n",
      " #   Column           Non-Null Count  Dtype         \n",
      "---  ------           --------------  -----         \n",
      " 0   State            12470 non-null  object        \n",
      " 1   Date             12470 non-null  datetime64[ns]\n",
      " 2   Confirmed        12470 non-null  int64         \n",
      " 3   Dead             12470 non-null  int64         \n",
      " 4   allbed_mean      10965 non-null  float64       \n",
      " 5   Population       11180 non-null  float64       \n",
      " 6   Total_Confirmed  12470 non-null  int64         \n",
      " 7   Total_Dead       12470 non-null  int64         \n",
      "dtypes: datetime64[ns](1), float64(2), int64(4), object(1)\n",
      "memory usage: 876.8+ KB\n"
     ]
    }
   ],
   "source": [
    "uscovid_st_dt.info()"
   ]
  },
  {
   "cell_type": "markdown",
   "metadata": {},
   "source": [
    "## Finding TOP 10 states with confirmed covid patients:"
   ]
  },
  {
   "cell_type": "code",
   "execution_count": 277,
   "metadata": {},
   "outputs": [],
   "source": [
    "maxdate = uscovid_st_dt['Date'].max()"
   ]
  },
  {
   "cell_type": "code",
   "execution_count": 278,
   "metadata": {},
   "outputs": [],
   "source": [
    "dflatest = uscovid_st_dt[uscovid_st_dt['Date'] == maxdate]"
   ]
  },
  {
   "cell_type": "code",
   "execution_count": 279,
   "metadata": {},
   "outputs": [
    {
     "name": "stdout",
     "output_type": "stream",
     "text": [
      "<class 'pandas.core.frame.DataFrame'>\n",
      "Int64Index: 58 entries, 214 to 12469\n",
      "Data columns (total 8 columns):\n",
      " #   Column           Non-Null Count  Dtype         \n",
      "---  ------           --------------  -----         \n",
      " 0   State            58 non-null     object        \n",
      " 1   Date             58 non-null     datetime64[ns]\n",
      " 2   Confirmed        58 non-null     int64         \n",
      " 3   Dead             58 non-null     int64         \n",
      " 4   allbed_mean      51 non-null     float64       \n",
      " 5   Population       52 non-null     float64       \n",
      " 6   Total_Confirmed  58 non-null     int64         \n",
      " 7   Total_Dead       58 non-null     int64         \n",
      "dtypes: datetime64[ns](1), float64(2), int64(4), object(1)\n",
      "memory usage: 4.1+ KB\n"
     ]
    }
   ],
   "source": [
    "dflatest.info()"
   ]
  },
  {
   "cell_type": "code",
   "execution_count": 258,
   "metadata": {
    "scrolled": false
   },
   "outputs": [
    {
     "data": {
      "image/png": "[encoded data removed]",
      "text/plain": [
       "<Figure size 1080x720 with 1 Axes>"
      ]
     },
     "metadata": {
      "needs_background": "light"
     },
     "output_type": "display_data"
    }
   ],
   "source": [
    "dflatest = dflatest.sort_values('Total_Confirmed', ascending=False)\n",
    "by_confirmed  = dflatest.plot.bar(x='State', y='Total_Confirmed', figsize=(15,10))"
   ]
  },
  {
   "cell_type": "code",
   "execution_count": 280,
   "metadata": {},
   "outputs": [
    {
     "name": "stdout",
     "output_type": "stream",
     "text": [
      "['Alabama', 'Alaska', 'American Samoa', 'Arizona', 'Arkansas', 'California', 'Colorado', 'Connecticut', 'Delaware', 'Diamond Princess']\n"
     ]
    }
   ],
   "source": [
    "statelist = dflatest['State'].tolist()\n",
    "statelist_top10 =statelist[:10]\n",
    "print(statelist_top10)"
   ]
  },
  {
   "cell_type": "code",
   "execution_count": 281,
   "metadata": {},
   "outputs": [
    {
     "name": "stdout",
     "output_type": "stream",
     "text": [
      "<class 'pandas.core.frame.DataFrame'>\n",
      "Int64Index: 2150 entries, 0 to 2149\n",
      "Data columns (total 8 columns):\n",
      " #   Column           Non-Null Count  Dtype         \n",
      "---  ------           --------------  -----         \n",
      " 0   State            2150 non-null   object        \n",
      " 1   Date             2150 non-null   datetime64[ns]\n",
      " 2   Confirmed        2150 non-null   int64         \n",
      " 3   Dead             2150 non-null   int64         \n",
      " 4   allbed_mean      1720 non-null   float64       \n",
      " 5   Population       1720 non-null   float64       \n",
      " 6   Total_Confirmed  2150 non-null   int64         \n",
      " 7   Total_Dead       2150 non-null   int64         \n",
      "dtypes: datetime64[ns](1), float64(2), int64(4), object(1)\n",
      "memory usage: 151.2+ KB\n"
     ]
    }
   ],
   "source": [
    "uscovid_Top10 = uscovid_st_dt[uscovid_st_dt['State'].isin(statelist_top10)]\n",
    "uscovid_Top10.info()"
   ]
  },
  {
   "cell_type": "markdown",
   "metadata": {},
   "source": [
    "# Insights\n",
    "## Forcast Hospital Bed need for the top 10 states"
   ]
  },
  {
   "cell_type": "code",
   "execution_count": 282,
   "metadata": {},
   "outputs": [],
   "source": [
    "import pandas as pd\n",
    "from fbprophet import Prophet"
   ]
  },
  {
   "cell_type": "code",
   "execution_count": 283,
   "metadata": {
    "scrolled": true
   },
   "outputs": [
    {
     "name": "stdout",
     "output_type": "stream",
     "text": [
      "<class 'pandas.core.frame.DataFrame'>\n",
      "Int64Index: 215 entries, 1075 to 1289\n",
      "Data columns (total 8 columns):\n",
      " #   Column           Non-Null Count  Dtype         \n",
      "---  ------           --------------  -----         \n",
      " 0   State            215 non-null    object        \n",
      " 1   Date             215 non-null    datetime64[ns]\n",
      " 2   Confirmed        215 non-null    int64         \n",
      " 3   Dead             215 non-null    int64         \n",
      " 4   allbed_mean      215 non-null    float64       \n",
      " 5   Population       215 non-null    float64       \n",
      " 6   Total_Confirmed  215 non-null    int64         \n",
      " 7   Total_Dead       215 non-null    int64         \n",
      "dtypes: datetime64[ns](1), float64(2), int64(4), object(1)\n",
      "memory usage: 15.1+ KB\n"
     ]
    }
   ],
   "source": [
    "statel = ['California']\n",
    "CA = uscovid_Top10[uscovid_Top10['State']== 'California']\n",
    "CA.info()"
   ]
  },
  {
   "cell_type": "code",
   "execution_count": 284,
   "metadata": {},
   "outputs": [],
   "source": [
    "CA.set_index('Date', inplace=True)"
   ]
  },
  {
   "cell_type": "code",
   "execution_count": 285,
   "metadata": {},
   "outputs": [
    {
     "data": {
      "text/html": [
       "<div>\n",
       "<style scoped>\n",
       "    .dataframe tbody tr th:only-of-type {\n",
       "        vertical-align: middle;\n",
       "    }\n",
       "\n",
       "    .dataframe tbody tr th {\n",
       "        vertical-align: top;\n",
       "    }\n",
       "\n",
       "    .dataframe thead th {\n",
       "        text-align: right;\n",
       "    }\n",
       "</style>\n",
       "<table border=\"1\" class=\"dataframe\">\n",
       "  <thead>\n",
       "    <tr style=\"text-align: right;\">\n",
       "      <th></th>\n",
       "      <th>State</th>\n",
       "      <th>Confirmed</th>\n",
       "      <th>Dead</th>\n",
       "      <th>allbed_mean</th>\n",
       "      <th>Population</th>\n",
       "      <th>Total_Confirmed</th>\n",
       "      <th>Total_Dead</th>\n",
       "    </tr>\n",
       "    <tr>\n",
       "      <th>Date</th>\n",
       "      <th></th>\n",
       "      <th></th>\n",
       "      <th></th>\n",
       "      <th></th>\n",
       "      <th></th>\n",
       "      <th></th>\n",
       "      <th></th>\n",
       "    </tr>\n",
       "  </thead>\n",
       "  <tbody>\n",
       "    <tr>\n",
       "      <th>2020-01-22</th>\n",
       "      <td>California</td>\n",
       "      <td>0</td>\n",
       "      <td>0</td>\n",
       "      <td>0.0</td>\n",
       "      <td>39512223.0</td>\n",
       "      <td>33120293</td>\n",
       "      <td>764365</td>\n",
       "    </tr>\n",
       "    <tr>\n",
       "      <th>2020-01-23</th>\n",
       "      <td>California</td>\n",
       "      <td>0</td>\n",
       "      <td>0</td>\n",
       "      <td>0.0</td>\n",
       "      <td>39512223.0</td>\n",
       "      <td>33120293</td>\n",
       "      <td>764365</td>\n",
       "    </tr>\n",
       "    <tr>\n",
       "      <th>2020-01-24</th>\n",
       "      <td>California</td>\n",
       "      <td>0</td>\n",
       "      <td>0</td>\n",
       "      <td>0.0</td>\n",
       "      <td>39512223.0</td>\n",
       "      <td>33120293</td>\n",
       "      <td>764365</td>\n",
       "    </tr>\n",
       "    <tr>\n",
       "      <th>2020-01-25</th>\n",
       "      <td>California</td>\n",
       "      <td>0</td>\n",
       "      <td>0</td>\n",
       "      <td>0.0</td>\n",
       "      <td>39512223.0</td>\n",
       "      <td>33120293</td>\n",
       "      <td>764365</td>\n",
       "    </tr>\n",
       "    <tr>\n",
       "      <th>2020-01-26</th>\n",
       "      <td>California</td>\n",
       "      <td>2</td>\n",
       "      <td>0</td>\n",
       "      <td>0.0</td>\n",
       "      <td>39512223.0</td>\n",
       "      <td>33120293</td>\n",
       "      <td>764365</td>\n",
       "    </tr>\n",
       "    <tr>\n",
       "      <th>...</th>\n",
       "      <td>...</td>\n",
       "      <td>...</td>\n",
       "      <td>...</td>\n",
       "      <td>...</td>\n",
       "      <td>...</td>\n",
       "      <td>...</td>\n",
       "      <td>...</td>\n",
       "    </tr>\n",
       "    <tr>\n",
       "      <th>2020-08-19</th>\n",
       "      <td>California</td>\n",
       "      <td>647274</td>\n",
       "      <td>11690</td>\n",
       "      <td>0.0</td>\n",
       "      <td>39512223.0</td>\n",
       "      <td>33120293</td>\n",
       "      <td>764365</td>\n",
       "    </tr>\n",
       "    <tr>\n",
       "      <th>2020-08-20</th>\n",
       "      <td>California</td>\n",
       "      <td>652267</td>\n",
       "      <td>11810</td>\n",
       "      <td>0.0</td>\n",
       "      <td>39512223.0</td>\n",
       "      <td>33120293</td>\n",
       "      <td>764365</td>\n",
       "    </tr>\n",
       "    <tr>\n",
       "      <th>2020-08-21</th>\n",
       "      <td>California</td>\n",
       "      <td>658900</td>\n",
       "      <td>11946</td>\n",
       "      <td>0.0</td>\n",
       "      <td>39512223.0</td>\n",
       "      <td>33120293</td>\n",
       "      <td>764365</td>\n",
       "    </tr>\n",
       "    <tr>\n",
       "      <th>2020-08-22</th>\n",
       "      <td>California</td>\n",
       "      <td>664435</td>\n",
       "      <td>12131</td>\n",
       "      <td>0.0</td>\n",
       "      <td>39512223.0</td>\n",
       "      <td>33120293</td>\n",
       "      <td>764365</td>\n",
       "    </tr>\n",
       "    <tr>\n",
       "      <th>2020-08-23</th>\n",
       "      <td>California</td>\n",
       "      <td>669280</td>\n",
       "      <td>12153</td>\n",
       "      <td>0.0</td>\n",
       "      <td>39512223.0</td>\n",
       "      <td>33120293</td>\n",
       "      <td>764365</td>\n",
       "    </tr>\n",
       "  </tbody>\n",
       "</table>\n",
       "<p>215 rows × 7 columns</p>\n",
       "</div>"
      ],
      "text/plain": [
       "                 State  Confirmed   Dead  allbed_mean  Population  \\\n",
       "Date                                                                \n",
       "2020-01-22  California          0      0          0.0  39512223.0   \n",
       "2020-01-23  California          0      0          0.0  39512223.0   \n",
       "2020-01-24  California          0      0          0.0  39512223.0   \n",
       "2020-01-25  California          0      0          0.0  39512223.0   \n",
       "2020-01-26  California          2      0          0.0  39512223.0   \n",
       "...                ...        ...    ...          ...         ...   \n",
       "2020-08-19  California     647274  11690          0.0  39512223.0   \n",
       "2020-08-20  California     652267  11810          0.0  39512223.0   \n",
       "2020-08-21  California     658900  11946          0.0  39512223.0   \n",
       "2020-08-22  California     664435  12131          0.0  39512223.0   \n",
       "2020-08-23  California     669280  12153          0.0  39512223.0   \n",
       "\n",
       "            Total_Confirmed  Total_Dead  \n",
       "Date                                     \n",
       "2020-01-22         33120293      764365  \n",
       "2020-01-23         33120293      764365  \n",
       "2020-01-24         33120293      764365  \n",
       "2020-01-25         33120293      764365  \n",
       "2020-01-26         33120293      764365  \n",
       "...                     ...         ...  \n",
       "2020-08-19         33120293      764365  \n",
       "2020-08-20         33120293      764365  \n",
       "2020-08-21         33120293      764365  \n",
       "2020-08-22         33120293      764365  \n",
       "2020-08-23         33120293      764365  \n",
       "\n",
       "[215 rows x 7 columns]"
      ]
     },
     "execution_count": 285,
     "metadata": {},
     "output_type": "execute_result"
    }
   ],
   "source": [
    "CA"
   ]
  },
  {
   "cell_type": "code",
   "execution_count": 296,
   "metadata": {},
   "outputs": [
    {
     "name": "stderr",
     "output_type": "stream",
     "text": [
      "C:\\Users\\ysman\\anaconda3\\lib\\site-packages\\ipykernel_launcher.py:1: SettingWithCopyWarning: \n",
      "A value is trying to be set on a copy of a slice from a DataFrame.\n",
      "Try using .loc[row_indexer,col_indexer] = value instead\n",
      "\n",
      "See the caveats in the documentation: https://pandas.pydata.org/pandas-docs/stable/user_guide/indexing.html#returning-a-view-versus-a-copy\n",
      "  \"\"\"Entry point for launching an IPython kernel.\n"
     ]
    }
   ],
   "source": [
    "CA['Confirmed_per_1000']= CA.apply(lambda row: (row.Confirmed * 1000)/ row.Population , axis = 1).round(2)\n"
   ]
  },
  {
   "cell_type": "code",
   "execution_count": 295,
   "metadata": {},
   "outputs": [
    {
     "name": "stderr",
     "output_type": "stream",
     "text": [
      "C:\\Users\\ysman\\anaconda3\\lib\\site-packages\\ipykernel_launcher.py:1: SettingWithCopyWarning: \n",
      "A value is trying to be set on a copy of a slice from a DataFrame.\n",
      "Try using .loc[row_indexer,col_indexer] = value instead\n",
      "\n",
      "See the caveats in the documentation: https://pandas.pydata.org/pandas-docs/stable/user_guide/indexing.html#returning-a-view-versus-a-copy\n",
      "  \"\"\"Entry point for launching an IPython kernel.\n"
     ]
    }
   ],
   "source": [
    "CA['Daily_Confirmed'] = CA['Confirmed'].diff().round(2)"
   ]
  },
  {
   "cell_type": "code",
   "execution_count": 293,
   "metadata": {},
   "outputs": [
    {
     "name": "stderr",
     "output_type": "stream",
     "text": [
      "C:\\Users\\ysman\\anaconda3\\lib\\site-packages\\ipykernel_launcher.py:1: SettingWithCopyWarning: \n",
      "A value is trying to be set on a copy of a slice from a DataFrame.\n",
      "Try using .loc[row_indexer,col_indexer] = value instead\n",
      "\n",
      "See the caveats in the documentation: https://pandas.pydata.org/pandas-docs/stable/user_guide/indexing.html#returning-a-view-versus-a-copy\n",
      "  \"\"\"Entry point for launching an IPython kernel.\n",
      "C:\\Users\\ysman\\anaconda3\\lib\\site-packages\\ipykernel_launcher.py:2: SettingWithCopyWarning: \n",
      "A value is trying to be set on a copy of a slice from a DataFrame.\n",
      "Try using .loc[row_indexer,col_indexer] = value instead\n",
      "\n",
      "See the caveats in the documentation: https://pandas.pydata.org/pandas-docs/stable/user_guide/indexing.html#returning-a-view-versus-a-copy\n",
      "  \n"
     ]
    }
   ],
   "source": [
    "CA['%Daily_confirmed'] = CA.apply(lambda row: (row.Daily_Confirmed * 100)/ row.Total_Confirmed , axis = 1).round(2)\n",
    "CA['Daily_change_rate'] = (CA['%Daily_confirmed'] .diff()).round(2)"
   ]
  },
  {
   "cell_type": "code",
   "execution_count": 297,
   "metadata": {},
   "outputs": [
    {
     "data": {
      "text/html": [
       "<div>\n",
       "<style scoped>\n",
       "    .dataframe tbody tr th:only-of-type {\n",
       "        vertical-align: middle;\n",
       "    }\n",
       "\n",
       "    .dataframe tbody tr th {\n",
       "        vertical-align: top;\n",
       "    }\n",
       "\n",
       "    .dataframe thead th {\n",
       "        text-align: right;\n",
       "    }\n",
       "</style>\n",
       "<table border=\"1\" class=\"dataframe\">\n",
       "  <thead>\n",
       "    <tr style=\"text-align: right;\">\n",
       "      <th></th>\n",
       "      <th>State</th>\n",
       "      <th>Confirmed</th>\n",
       "      <th>Dead</th>\n",
       "      <th>allbed_mean</th>\n",
       "      <th>Population</th>\n",
       "      <th>Total_Confirmed</th>\n",
       "      <th>Total_Dead</th>\n",
       "      <th>Confirmed_per_1000</th>\n",
       "      <th>Daily_Confirmed</th>\n",
       "      <th>%Daily_confirmed</th>\n",
       "      <th>Daily_change_rate</th>\n",
       "    </tr>\n",
       "    <tr>\n",
       "      <th>Date</th>\n",
       "      <th></th>\n",
       "      <th></th>\n",
       "      <th></th>\n",
       "      <th></th>\n",
       "      <th></th>\n",
       "      <th></th>\n",
       "      <th></th>\n",
       "      <th></th>\n",
       "      <th></th>\n",
       "      <th></th>\n",
       "      <th></th>\n",
       "    </tr>\n",
       "  </thead>\n",
       "  <tbody>\n",
       "    <tr>\n",
       "      <th>2020-01-22</th>\n",
       "      <td>California</td>\n",
       "      <td>0</td>\n",
       "      <td>0</td>\n",
       "      <td>0.0</td>\n",
       "      <td>39512223.0</td>\n",
       "      <td>33120293</td>\n",
       "      <td>764365</td>\n",
       "      <td>0.00</td>\n",
       "      <td>NaN</td>\n",
       "      <td>NaN</td>\n",
       "      <td>NaN</td>\n",
       "    </tr>\n",
       "    <tr>\n",
       "      <th>2020-01-23</th>\n",
       "      <td>California</td>\n",
       "      <td>0</td>\n",
       "      <td>0</td>\n",
       "      <td>0.0</td>\n",
       "      <td>39512223.0</td>\n",
       "      <td>33120293</td>\n",
       "      <td>764365</td>\n",
       "      <td>0.00</td>\n",
       "      <td>0.0</td>\n",
       "      <td>0.00</td>\n",
       "      <td>NaN</td>\n",
       "    </tr>\n",
       "    <tr>\n",
       "      <th>2020-01-24</th>\n",
       "      <td>California</td>\n",
       "      <td>0</td>\n",
       "      <td>0</td>\n",
       "      <td>0.0</td>\n",
       "      <td>39512223.0</td>\n",
       "      <td>33120293</td>\n",
       "      <td>764365</td>\n",
       "      <td>0.00</td>\n",
       "      <td>0.0</td>\n",
       "      <td>0.00</td>\n",
       "      <td>0.00</td>\n",
       "    </tr>\n",
       "    <tr>\n",
       "      <th>2020-01-25</th>\n",
       "      <td>California</td>\n",
       "      <td>0</td>\n",
       "      <td>0</td>\n",
       "      <td>0.0</td>\n",
       "      <td>39512223.0</td>\n",
       "      <td>33120293</td>\n",
       "      <td>764365</td>\n",
       "      <td>0.00</td>\n",
       "      <td>0.0</td>\n",
       "      <td>0.00</td>\n",
       "      <td>0.00</td>\n",
       "    </tr>\n",
       "    <tr>\n",
       "      <th>2020-01-26</th>\n",
       "      <td>California</td>\n",
       "      <td>2</td>\n",
       "      <td>0</td>\n",
       "      <td>0.0</td>\n",
       "      <td>39512223.0</td>\n",
       "      <td>33120293</td>\n",
       "      <td>764365</td>\n",
       "      <td>0.00</td>\n",
       "      <td>2.0</td>\n",
       "      <td>0.00</td>\n",
       "      <td>0.00</td>\n",
       "    </tr>\n",
       "    <tr>\n",
       "      <th>...</th>\n",
       "      <td>...</td>\n",
       "      <td>...</td>\n",
       "      <td>...</td>\n",
       "      <td>...</td>\n",
       "      <td>...</td>\n",
       "      <td>...</td>\n",
       "      <td>...</td>\n",
       "      <td>...</td>\n",
       "      <td>...</td>\n",
       "      <td>...</td>\n",
       "      <td>...</td>\n",
       "    </tr>\n",
       "    <tr>\n",
       "      <th>2020-08-19</th>\n",
       "      <td>California</td>\n",
       "      <td>647274</td>\n",
       "      <td>11690</td>\n",
       "      <td>0.0</td>\n",
       "      <td>39512223.0</td>\n",
       "      <td>33120293</td>\n",
       "      <td>764365</td>\n",
       "      <td>16.38</td>\n",
       "      <td>9134.0</td>\n",
       "      <td>0.03</td>\n",
       "      <td>0.00</td>\n",
       "    </tr>\n",
       "    <tr>\n",
       "      <th>2020-08-20</th>\n",
       "      <td>California</td>\n",
       "      <td>652267</td>\n",
       "      <td>11810</td>\n",
       "      <td>0.0</td>\n",
       "      <td>39512223.0</td>\n",
       "      <td>33120293</td>\n",
       "      <td>764365</td>\n",
       "      <td>16.51</td>\n",
       "      <td>4993.0</td>\n",
       "      <td>0.02</td>\n",
       "      <td>-0.01</td>\n",
       "    </tr>\n",
       "    <tr>\n",
       "      <th>2020-08-21</th>\n",
       "      <td>California</td>\n",
       "      <td>658900</td>\n",
       "      <td>11946</td>\n",
       "      <td>0.0</td>\n",
       "      <td>39512223.0</td>\n",
       "      <td>33120293</td>\n",
       "      <td>764365</td>\n",
       "      <td>16.68</td>\n",
       "      <td>6633.0</td>\n",
       "      <td>0.02</td>\n",
       "      <td>0.00</td>\n",
       "    </tr>\n",
       "    <tr>\n",
       "      <th>2020-08-22</th>\n",
       "      <td>California</td>\n",
       "      <td>664435</td>\n",
       "      <td>12131</td>\n",
       "      <td>0.0</td>\n",
       "      <td>39512223.0</td>\n",
       "      <td>33120293</td>\n",
       "      <td>764365</td>\n",
       "      <td>16.82</td>\n",
       "      <td>5535.0</td>\n",
       "      <td>0.02</td>\n",
       "      <td>0.00</td>\n",
       "    </tr>\n",
       "    <tr>\n",
       "      <th>2020-08-23</th>\n",
       "      <td>California</td>\n",
       "      <td>669280</td>\n",
       "      <td>12153</td>\n",
       "      <td>0.0</td>\n",
       "      <td>39512223.0</td>\n",
       "      <td>33120293</td>\n",
       "      <td>764365</td>\n",
       "      <td>16.94</td>\n",
       "      <td>4845.0</td>\n",
       "      <td>0.01</td>\n",
       "      <td>-0.01</td>\n",
       "    </tr>\n",
       "  </tbody>\n",
       "</table>\n",
       "<p>215 rows × 11 columns</p>\n",
       "</div>"
      ],
      "text/plain": [
       "                 State  Confirmed   Dead  allbed_mean  Population  \\\n",
       "Date                                                                \n",
       "2020-01-22  California          0      0          0.0  39512223.0   \n",
       "2020-01-23  California          0      0          0.0  39512223.0   \n",
       "2020-01-24  California          0      0          0.0  39512223.0   \n",
       "2020-01-25  California          0      0          0.0  39512223.0   \n",
       "2020-01-26  California          2      0          0.0  39512223.0   \n",
       "...                ...        ...    ...          ...         ...   \n",
       "2020-08-19  California     647274  11690          0.0  39512223.0   \n",
       "2020-08-20  California     652267  11810          0.0  39512223.0   \n",
       "2020-08-21  California     658900  11946          0.0  39512223.0   \n",
       "2020-08-22  California     664435  12131          0.0  39512223.0   \n",
       "2020-08-23  California     669280  12153          0.0  39512223.0   \n",
       "\n",
       "            Total_Confirmed  Total_Dead  Confirmed_per_1000  Daily_Confirmed  \\\n",
       "Date                                                                           \n",
       "2020-01-22         33120293      764365                0.00              NaN   \n",
       "2020-01-23         33120293      764365                0.00              0.0   \n",
       "2020-01-24         33120293      764365                0.00              0.0   \n",
       "2020-01-25         33120293      764365                0.00              0.0   \n",
       "2020-01-26         33120293      764365                0.00              2.0   \n",
       "...                     ...         ...                 ...              ...   \n",
       "2020-08-19         33120293      764365               16.38           9134.0   \n",
       "2020-08-20         33120293      764365               16.51           4993.0   \n",
       "2020-08-21         33120293      764365               16.68           6633.0   \n",
       "2020-08-22         33120293      764365               16.82           5535.0   \n",
       "2020-08-23         33120293      764365               16.94           4845.0   \n",
       "\n",
       "            %Daily_confirmed  Daily_change_rate  \n",
       "Date                                             \n",
       "2020-01-22               NaN                NaN  \n",
       "2020-01-23              0.00                NaN  \n",
       "2020-01-24              0.00               0.00  \n",
       "2020-01-25              0.00               0.00  \n",
       "2020-01-26              0.00               0.00  \n",
       "...                      ...                ...  \n",
       "2020-08-19              0.03               0.00  \n",
       "2020-08-20              0.02              -0.01  \n",
       "2020-08-21              0.02               0.00  \n",
       "2020-08-22              0.02               0.00  \n",
       "2020-08-23              0.01              -0.01  \n",
       "\n",
       "[215 rows x 11 columns]"
      ]
     },
     "execution_count": 297,
     "metadata": {},
     "output_type": "execute_result"
    }
   ],
   "source": [
    "CA"
   ]
  },
  {
   "cell_type": "code",
   "execution_count": null,
   "metadata": {},
   "outputs": [],
   "source": []
  }
 ],
 "metadata": {
  "kernelspec": {
   "display_name": "Python 3",
   "language": "python",
   "name": "python3"
  },
  "language_info": {
   "codemirror_mode": {
    "name": "ipython",
    "version": 3
   },
   "file_extension": ".py",
   "mimetype": "text/x-python",
   "name": "python",
   "nbconvert_exporter": "python",
   "pygments_lexer": "ipython3",
   "version": "3.7.6"
  }
 },
 "nbformat": 4,
 "nbformat_minor": 4
}
